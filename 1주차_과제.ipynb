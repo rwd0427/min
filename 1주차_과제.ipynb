{
  "nbformat": 4,
  "nbformat_minor": 0,
  "metadata": {
    "colab": {
      "name": "1주차 과제",
      "provenance": [],
      "collapsed_sections": [],
      "toc_visible": true,
      "authorship_tag": "ABX9TyOGVptmZURjfq3gjc1U6t2g",
      "include_colab_link": true
    },
    "kernelspec": {
      "name": "python3",
      "display_name": "Python 3"
    }
  },
  "cells": [
    {
      "cell_type": "markdown",
      "metadata": {
        "id": "view-in-github",
        "colab_type": "text"
      },
      "source": [
        "<a href=\"https://colab.research.google.com/github/rwd0427/min/blob/master/1%EC%A3%BC%EC%B0%A8_%EA%B3%BC%EC%A0%9C.ipynb\" target=\"_parent\"><img src=\"https://colab.research.google.com/assets/colab-badge.svg\" alt=\"Open In Colab\"/></a>"
      ]
    },
    {
      "cell_type": "markdown",
      "metadata": {
        "id": "D9W_b5ssNktH",
        "colab_type": "text"
      },
      "source": [
        ""
      ]
    },
    {
      "cell_type": "markdown",
      "metadata": {
        "id": "qRM2jTyf-4zh",
        "colab_type": "text"
      },
      "source": [
        "**기계**란 인간이 더욱더 __편하게 생활하고 편리하게 일처리하기 위해 만든 것__ 이라고 생각한다.\n",
        "\n",
        "이러한 기계는 수십년,수백년의 걸쳐 인간의 노력의 의해 진화되엇고 더욱더 편리한 시스템을 만들기 위해 __기계가 스스로 생각하여 실행하는__ 인공지능 기술도 이와같이 발전해왓다.\n",
        "\n",
        "이렇게 발전한 인공지능은 다방면으로 많은 분야에 적용되어있다. 우리의 일상생활에서 흔히 접하는 분야 __언어__,__음성__,__이미지__,__자율주행__제품을 살펴보도록 하자.\n",
        "# __1.언어__\n",
        "## 1.  구글 번역기\n",
        "![구글 번역](https://user-images.githubusercontent.com/65815523/82809311-cbe95080-9ec6-11ea-85cd-4034f9ba2733.png)\n",
        "+  2007년 구글에서 발표한 무료 번역 서비스로, 현재 세계에서 가장 많이 사용되는 기계번역 서비스이다.\n",
        "+  __딥 러닝 기반__의 번역기 NMT(Neural Machine Translation) 사용\n",
        "\n",
        "## 2.  네이버 파파고\n",
        "![네이버 파파고](https://user-images.githubusercontent.com/65815523/82801724-bc630b00-9eb8-11ea-9719-b705014630c1.png)\n",
        "+  네이버가 2016년 8월 8일 애플리케이션으로 선보인 인공지능 기반 번역기이다. 한국어, 일본어, 중국어, 영어, 스페인어, 프랑스어, 베트남어, 태국어, 인도네시아어, 독일어, 러시아어, 포르투갈어, 힌디어 13개의 언어를 번역할 수 있다. 텍스트나 음성 뿐 아니라 사진 속 문자까지 통·번역할 수 있다.\n",
        "\n",
        "+  __딥 러닝 기반__의 번역기이며 Naver Labs에서 자체 개발한 인공신경망(Artificial Neural Network) 기반이다.\n",
        " +  ~~아직까지 번역기를 제대로 사용해본적이 없다는건 안비밀.. 외국인 친구가생기면 쓸지도?..~~\n",
        " \n",
        "\n"
      ]
    },
    {
      "cell_type": "markdown",
      "metadata": {
        "id": "x1ParU3eNuO8",
        "colab_type": "text"
      },
      "source": [
        ""
      ]
    },
    {
      "cell_type": "markdown",
      "metadata": {
        "colab_type": "text",
        "id": "phpHG-XNNvY7"
      },
      "source": [
        "\n",
        "# __2.음성__\n",
        "## 1. 시리 \n",
        "+  지능형 개인 비서 기능을 수행하는 __애플 iOS용__ 소프트웨어로, 자연어 처리를 기반으로 질문에 대한 답변을 추천하거나 웹 검색을 수행한다.\n",
        " +  시리(Siri, Speech Interpretation and Recognition Interface) 소프트웨어는 시리(Siri inc.) 사에서 개발되었는데, __애플__이 2010년 4월 28일 시리 사를 인수하면서 소프트웨어를 소유하게 되었다.\n",
        "\n",
        " ## 2. 빅스비\n",
        "+  2017년 3월29일 공개된 __삼성전자__의 갤럭시S8에 탑재된 인공지능(AI) 가상 비서.\n",
        " +  __삼성전자__가 __비브__ 개발진과 협력 해 개발 한 딥러닝 기반의 발전된 삼성전자의 소프트웨어 인공지능 서비스   \n",
        "+  음성인식 서비스는 현존 21세기 최고의 인공지능 서비스라고 생각함."
      ]
    },
    {
      "cell_type": "markdown",
      "metadata": {
        "id": "-gv4DTB_N4OU",
        "colab_type": "text"
      },
      "source": [
        ""
      ]
    },
    {
      "cell_type": "markdown",
      "metadata": {
        "colab_type": "text",
        "id": "TsKwQYxCN4qz"
      },
      "source": [
        "\n",
        "# __3.이미지__ \n",
        "## 1. 스마트폰 홍채인식\n",
        "+  스마트폰의 홍채 인식 화면에 사용자의 눈이 맞춰지면 적외선 LED에서 빛이 나와 눈을 비춘다. 홍채 인식 전용 카메라로 눈에 적외선이 반사되는 영상을 촬영한다. \n",
        "+  촬영된 눈 영상에서 동공과 눈꺼풀, 홍채를 구분해 내고 그 중 홍채 영역만을 남기면 도넛 형태의 이미지가 남는다. 도넛 형태의 홍채 이미지를 잘라 일자로 편 이미지로 변환한다.\n",
        "+  홍채 인식 알고리즘이 홍채의 명암 패턴을 영역별로 분석해 개인 고유의 디지털 홍채 코드를 읽는다. 이 코드가 이미 등록된 홍채 정보와 일치하는지 확인 후 인증 또는 거절한다. 홍채 코드의 형태는 홍채 인식을 개발한 업체마다 다르고, 이 코드는 암호화 과정을 거쳐 전송된다.\n",
        "## 2.  의료용 인공지능 제품\n",
        "+  카메라로 인간의 흉부 x선을 촬영하면 인공지능이 판독하는 등. 인공지능은 의료계에도 많은 영향을 끼치고있다.\n",
        "+  최근 세계적으로 문제가 심한 코로나 바이러스를 진단하는 인공지능 x-ray가 나온다고 한다.https://view.asiae.co.kr/article/2020052509562625583   \n",
        "\n"
      ]
    },
    {
      "cell_type": "markdown",
      "metadata": {
        "id": "JBMdLlwUN--O",
        "colab_type": "text"
      },
      "source": [
        ""
      ]
    },
    {
      "cell_type": "markdown",
      "metadata": {
        "colab_type": "text",
        "id": "SPTKLzPtN_Xm"
      },
      "source": [
        "\n",
        "# __4.자율주행__\n",
        "## 1. 자율주행 자동차\n",
        "+  __\"자율주행자동차\"__란 운전자 또는 승객의 조작 없이 자동차 스스로 운행이 가능한 자동차를 말한다\n",
        "+  2010년대에는 딥러닝을 이용한 자율주행 기술 연구가 급진전되어 상용차에 제한적으로 탑재되고 있다.\n",
        "+  자율주행 자동차 __레벨 (0~5)__\n",
        "\n",
        "![자율주행 자동차 레벨](https://user-images.githubusercontent.com/65815523/82813782-bb3dd800-9ed0-11ea-8a59-5bd273e387f4.png)\n",
        "2016년 10월 NHTSA는 미국 자동차 학회(SAE)의 J3016문서에 명시된 자율 수준을 공식적으로 채택하여, 현재는 6단계로 구분하고 있다.\n",
        "+  현재 많은 자동차 기업뿐만 아니라 구글, NVIDIA 같은 IT 기업들이 개발 중인데, 그중 가장 앞서있다고 평가되는 구글의 자율주행차는 약 600 ~ 1000여대의 차량으로 실제 도로 주행을 하여 주행거리가 1,300만km를 넘어섰다. 이에 반해 테슬라의 경우, 2020년 1월 자율주행 시스템으로 실도로 총주행거리는 30억 km가 넘으며, 70여만대의 자율주행 하드웨어 차량을 통해서 단, 하루에도 약 881만 km의 데이터를 수집할 수 있어서, 데이터의 양이 얼마나 큰 지가 압도적인 차이를 만들어 내는 __딥러닝 기반__의 자율 주행 개발에 있어서 가장 유리한 위치를 차지하고 있다.\n",
        " +  자율주행은 현재 인공지능 기술이 가장 많이 연구되고 있으며 미래에는 자동차를 포함한 기차,비행기 등 모든 교통수단에 적용될것이다.\n",
        "\n"
      ]
    }
  ]
}